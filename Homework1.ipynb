{
 "cells": [
  {
   "cell_type": "markdown",
   "id": "d2f170eb",
   "metadata": {},
   "source": [
    "# Semi-supervised learning\n",
    "### Giacomo Filippin, Emma Lovato, Rebecca Esegio "
   ]
  },
  {
   "cell_type": "code",
   "execution_count": 1,
   "id": "b3b6d3ce",
   "metadata": {},
   "outputs": [],
   "source": [
    "\n",
    "# Some useful packages\n",
    "import math\n",
    "import matplotlib.pyplot as plt\n",
    "import random\n",
    "import numpy as np\n",
    "import scipy.linalg\n",
    "import time\n",
    "from sklearn.metrics.pairwise import euclidean_distances\n",
    "import requests\n",
    "from sklearn.preprocessing import MinMaxScaler, StandardScaler\n",
    "from sklearn.decomposition import PCA\n",
    "from sklearn.pipeline import Pipeline\n",
    "from sklearn.datasets import load_digits\n",
    "# from tensorflow import keras\n",
    "import pandas as pd\n",
    "from io import StringIO\n",
    "import os\n",
    "import imageio\n",
    "from os import walk\n",
    "import shutil\n",
    "from sklearn.datasets import make_moons, make_blobs\n",
    "from sklearn.model_selection import train_test_split"
   ]
  },
  {
   "cell_type": "markdown",
   "id": "a4da897a",
   "metadata": {},
   "source": [
    "## Introduction\n",
    "In this project, the problem handled involves the application of semi-supervised learning on a set of randomly generated points in a 2D space, with labels assigned to a small subset. \n",
    "The problem will be solved using different optimization techniques like Gradient Descent, Block Coordinate Gradient Descent (BCGD) with Gauss-Southwell (GS) Rule, and coordinate minimization algorithms"
   ]
  },
  {
   "cell_type": "code",
   "execution_count": 2,
   "id": "f35703c6",
   "metadata": {},
   "outputs": [],
   "source": [
    "# Some useful variables\n",
    "NUM_ITERS = 60\n",
    "NUM_POINTS = 10000\n",
    "OUTPUT_STEP = 0.1\n",
    "LABELED_PERCENTAGE = 0.1\n",
    "OPTIMIZE_RANDOM = False\n",
    "STEP_SIZE = 1e-4\n",
    "EPSILON = 1e-5\n",
    "USE_LIPSCHITZ_CONSTANT = True\n",
    "OPTIMIZE_LIPSCHITZ_CONSTANT_FOR_BCGM = False\n",
    "INITIALIZE_RANDOM = True\n",
    "PLOT_DPI=100\n",
    "FROM_DATASET = False\n",
    "DATASET = \"mnist_keras\"\n",
    "CREATE_GIF = True"
   ]
  },
  {
   "cell_type": "code",
   "execution_count": 3,
   "id": "52deaa22",
   "metadata": {},
   "outputs": [],
   "source": [
    "# Set the seed for reproducibility\n",
    "np.random.seed(1)\n",
    "random.seed(1)"
   ]
  },
  {
   "cell_type": "markdown",
   "id": "88a52f5e",
   "metadata": {},
   "source": [
    "# PART A"
   ]
  },
  {
   "cell_type": "markdown",
   "id": "933bab03",
   "metadata": {},
   "source": [
    "## 1. Generate points in 2D\n"
   ]
  },
  {
   "cell_type": "code",
   "execution_count": 4,
   "id": "c0f1b188",
   "metadata": {},
   "outputs": [
    {
     "name": "stdout",
     "output_type": "stream",
     "text": [
      "--- Generating Synthetic Data (Notebook Nomenclature) ---\n",
      "Generating points\n",
      "done generating base points\n",
      "Generating variances\n",
      "Done generating variances\n",
      "Splitting points in labeled and unlabeled\n",
      "1000 elements class -1 and 1000 elements class 1 (raw)\n",
      "200 elements labeled and 1800 elements unlabeled\n",
      "Done splitting and scaling.\n",
      "x_labeled shape: (200, 2), y_labeled shape: (200,)\n",
      "x_unlabeled shape: (1800, 2), y_unlabeled_target shape: (1800,)\n",
      "y_unlabeled_initial mean (if random): 0.044444444444444446\n",
      "Original tuples_0 shape: (1000, 2)\n",
      "Original tuples_1 shape: (1000, 2)\n",
      "\n",
      "--- Test with INITIALIZE_RANDOM = False ---\n",
      "Generating points\n",
      "done generating base points\n",
      "Generating variances\n",
      "Done generating variances\n",
      "Splitting points in labeled and unlabeled\n",
      "50 elements class -1 and 50 elements class 1 (raw)\n",
      "50 elements labeled and 50 elements unlabeled\n",
      "Done splitting and scaling.\n",
      "y_unlabeled_initial_nr (should be all zeros): [0. 0. 0. 0. 0. 0. 0. 0. 0. 0. 0. 0. 0. 0. 0. 0. 0. 0. 0. 0. 0. 0. 0. 0.\n",
      " 0. 0. 0. 0. 0. 0. 0. 0. 0. 0. 0. 0. 0. 0. 0. 0. 0. 0. 0. 0. 0. 0. 0. 0.\n",
      " 0. 0.]\n",
      "y_unlabeled_initial_nr all zeros: True\n",
      "CPU times: total: 15.6 ms\n",
      "Wall time: 46.4 ms\n"
     ]
    }
   ],
   "source": [
    "%%time\n",
    "import math\n",
    "import numpy as np\n",
    "from sklearn.preprocessing import MinMaxScaler, StandardScaler\n",
    "from sklearn.pipeline import Pipeline\n",
    "import random\n",
    "\n",
    "def generate_semi_supervised_data(\n",
    "    NUM_POINTS,\n",
    "    LABELED_PERCENTAGE,\n",
    "    INITIALIZE_RANDOM,\n",
    "    gen1=lambda x: x,\n",
    "    gen2=lambda x: -x,\n",
    "    range1=(-1, 1),\n",
    "    range2=(-1, 1),\n",
    "    seed=None\n",
    "):\n",
    "    \"\"\"\n",
    "    Generates semi-supervised data using nomenclature from the reference notebook.\n",
    "\n",
    "    Args:\n",
    "        NUM_POINTS (int): Number of points to generate for each class.\n",
    "        LABELED_PERCENTAGE (float): Percentage of points to be labeled.\n",
    "        INITIALIZE_RANDOM (bool): If True, initialize unlabeled points randomly in {-1, 1}.\n",
    "                                  Otherwise, initialize to 0.\n",
    "        gen1 (function, optional): Function to generate y-values for the first class (class -1).\n",
    "                                   Must be able to operate on NumPy arrays.\n",
    "        gen2 (function, optional): Function to generate y-values for the second class (class 1).\n",
    "                                   Must be able to operate on NumPy arrays.\n",
    "        range1 (tuple, optional): Range for x-values for the first class.\n",
    "        range2 (tuple, optional): Range for x-values for the second class.\n",
    "        seed (int, optional): Random seed for reproducibility.\n",
    "\n",
    "    Returns:\n",
    "        tuple: Contains:\n",
    "            - x_labeled (np.array): Labeled data points.\n",
    "            - y_labeled (np.array): Labels for x_labeled.\n",
    "            - x_unlabeled (np.array): Unlabeled data points.\n",
    "            - y_unlabeled_target (np.array): True labels for x_unlabeled (for evaluation).\n",
    "            - y_unlabeled_initial (np.array): Initial guess for labels of x_unlabeled.\n",
    "            - scaler (sklearn.pipeline.Pipeline): Scaler object used for data transformation.\n",
    "            - tuples_0 (np.array): Original data points for class -1 (before splitting and scaling).\n",
    "            - tupltttes_1 (np.array): Original data points for class 1 (before splitting and scaling).\n",
    "    \"\"\"\n",
    "    if seed is not None:\n",
    "        random.seed(seed)\n",
    "        np.random.seed(seed)\n",
    "\n",
    "    print(\"Generating points\")\n",
    "    # Generate x values for both classes\n",
    "    x0 = np.random.uniform(*range1, NUM_POINTS)\n",
    "    x1 = np.random.uniform(*range2, NUM_POINTS)\n",
    "\n",
    "    # Apply generation functions (assuming gen1 and gen2 can handle numpy arrays)\n",
    "    f_x0 = gen1(x0)\n",
    "    f_x1 = gen2(x1)\n",
    "    print(\"done generating base points\")\n",
    "\n",
    "    print(\"Generating variances\")\n",
    "    # Variances as defined in the notebook (cell id: \"9ec705e6\")\n",
    "    rand_var_0 = np.random.normal(1, 0.1, len(x0))\n",
    "    rand_var_1 = np.random.normal(0, 0.1, len(x1))\n",
    "\n",
    "    f_x0_final = f_x0 + rand_var_0\n",
    "    f_x1_final = f_x1 + rand_var_1\n",
    "    print(\"Done generating variances\")\n",
    "    \n",
    "    tuples_0 = np.array(list(zip(x0, f_x0_final)))\n",
    "    tuples_1 = np.array(list(zip(x1, f_x1_final)))\n",
    "    \n",
    "    print(\"Splitting points in labeled and unlabeled\")\n",
    "    print(f\"{len(tuples_0)} elements class -1 and {len(tuples_1)} elements class 1 (raw)\")\n",
    "\n",
    "    if len(tuples_0) == 0 or len(tuples_1) == 0:\n",
    "        raise ValueError(\"One or both classes have zero samples. Check NUM_POINTS.\")\n",
    "\n",
    "    # Scaler setup (matches notebook cell id: \"5c73ecba\")\n",
    "    scaler = Pipeline([('mm_scaler', MinMaxScaler()),('std_scaler', StandardScaler())])\n",
    "    all_tuples = np.concatenate((tuples_0, tuples_1))\n",
    "    if all_tuples.shape[0] == 0:\n",
    "        raise ValueError(\"No data to fit scaler. tuples_0 and tuples_1 are empty.\")\n",
    "    scaler.fit(all_tuples)\n",
    "\n",
    "    # Splitting and labeling (matches notebook cell id: \"5c73ecba\")\n",
    "    # Class -1 (from tuples_0)\n",
    "    slice_index_0 = int(len(tuples_0) * LABELED_PERCENTAGE)\n",
    "    x_0_unlabeled_orig = tuples_0[slice_index_0:]\n",
    "    x_bar_0_orig = tuples_0[:slice_index_0]\n",
    "\n",
    "    # Class 1 (from tuples_1)\n",
    "    slice_index_1 = int(len(tuples_1) * LABELED_PERCENTAGE)\n",
    "    x_1_unlabeled_orig = tuples_1[slice_index_1:]\n",
    "    x_bar_1_orig = tuples_1[:slice_index_1]\n",
    "    \n",
    "    # Scale the data\n",
    "    x_0 = scaler.transform(x_0_unlabeled_orig) if len(x_0_unlabeled_orig) > 0 else np.array([])\n",
    "    x_bar_0 = scaler.transform(x_bar_0_orig) if len(x_bar_0_orig) > 0 else np.array([])\n",
    "    \n",
    "    x_1 = scaler.transform(x_1_unlabeled_orig) if len(x_1_unlabeled_orig) > 0 else np.array([])\n",
    "    x_bar_1 = scaler.transform(x_bar_1_orig) if len(x_bar_1_orig) > 0 else np.array([])\n",
    "\n",
    "    # Create labels\n",
    "    y_0 = np.repeat(-1, len(x_0)).astype('float64')\n",
    "    y_bar_0 = np.repeat(-1, len(x_bar_0)).astype('float64')\n",
    "    y_1 = np.repeat(1, len(x_1)).astype('float64')\n",
    "    y_bar_1 = np.repeat(1, len(x_bar_1)).astype('float64')\n",
    "\n",
    "    # Concatenate labeled and unlabeled sets\n",
    "    x_unlabeled_list = []\n",
    "    if len(x_0) > 0: x_unlabeled_list.append(x_0)\n",
    "    if len(x_1) > 0: x_unlabeled_list.append(x_1)\n",
    "    x_unlabeled = np.concatenate(x_unlabeled_list) if x_unlabeled_list else np.array([])\n",
    "    \n",
    "    x_labeled_list = []\n",
    "    if len(x_bar_0) > 0: x_labeled_list.append(x_bar_0)\n",
    "    if len(x_bar_1) > 0: x_labeled_list.append(x_bar_1)\n",
    "    x_labeled = np.concatenate(x_labeled_list) if x_labeled_list else np.array([])\n",
    "\n",
    "    y_labeled_list = []\n",
    "    if len(y_bar_0) > 0: y_labeled_list.append(y_bar_0)\n",
    "    if len(y_bar_1) > 0: y_labeled_list.append(y_bar_1)\n",
    "    y_labeled = np.concatenate(y_labeled_list) if y_labeled_list else np.array([])\n",
    "\n",
    "    y_unlabeled_target_list = []\n",
    "    if len(y_0) > 0: y_unlabeled_target_list.append(y_0)\n",
    "    if len(y_1) > 0: y_unlabeled_target_list.append(y_1)\n",
    "    y_unlabeled_target = np.concatenate(y_unlabeled_target_list) if y_unlabeled_target_list else np.array([])\n",
    "\n",
    "    # Initialize y_unlabeled_initial (matches notebook cell id: \"5c73ecba\")\n",
    "    if len(x_unlabeled) > 0:\n",
    "        if INITIALIZE_RANDOM:\n",
    "            y_unlabeled_initial = np.random.choice([-1.0, 1.0], size=(len(x_unlabeled),)).astype('float64')\n",
    "        else:\n",
    "            # Matches: np.array([0], dtype='float64').repeat(len(x_unlabeled))\n",
    "            y_unlabeled_initial = np.repeat(np.array([0], dtype='float64'), len(x_unlabeled))\n",
    "    else:\n",
    "        y_unlabeled_initial = np.array([])\n",
    "    \n",
    "    print(f\"{len(x_labeled)} elements labeled and {len(x_unlabeled)} elements unlabeled\")\n",
    "    print(\"Done splitting and scaling.\")\n",
    "\n",
    "    return x_labeled, y_labeled, x_unlabeled, y_unlabeled_target, y_unlabeled_initial, scaler, tuples_0, tuples_1\n",
    "\n",
    "if __name__ == '__main__':\n",
    "    # Default synthetic data functions and ranges from the notebook (cell id=\"b7d62a1a\")\n",
    "    active_gen1 = lambda x_val: x_val\n",
    "    active_gen2 = lambda x_val: -x_val\n",
    "    active_range1 = (-1, 1)\n",
    "    active_range2 = (-1, 1)\n",
    "\n",
    "    print(\"--- Generating Synthetic Data (Notebook Nomenclature) ---\")\n",
    "    # Parameters from notebook (cell id=\"12bac363\")\n",
    "    # NUM_POINTS = 10000 (example, can be changed)\n",
    "    # LABELED_PERCENTAGE = 0.1\n",
    "    # INITIALIZE_RANDOM = True\n",
    "    \n",
    "    x_l, y_l, x_ul, y_ul_target, y_ul_init, scl, t0_orig, t1_orig = generate_semi_supervised_data(\n",
    "        NUM_POINTS=1000, # Example value\n",
    "        LABELED_PERCENTAGE=0.1,\n",
    "        INITIALIZE_RANDOM=True,\n",
    "        gen1=active_gen1,\n",
    "        gen2=active_gen2,\n",
    "        range1=active_range1,\n",
    "        range2=active_range2,\n",
    "        seed=1 # Matches notebook seed\n",
    "    )\n",
    "    print(f\"x_labeled shape: {x_l.shape}, y_labeled shape: {y_l.shape}\")\n",
    "    print(f\"x_unlabeled shape: {x_ul.shape}, y_unlabeled_target shape: {y_ul_target.shape}\")\n",
    "    print(f\"y_unlabeled_initial mean (if random): {y_ul_init.mean() if len(y_ul_init) > 0 else 'N/A'}\")\n",
    "    print(f\"Original tuples_0 shape: {t0_orig.shape}\")\n",
    "    print(f\"Original tuples_1 shape: {t1_orig.shape}\")\n",
    "\n",
    "    print(\"\\n--- Test with INITIALIZE_RANDOM = False ---\")\n",
    "    x_l_nr, y_l_nr, x_ul_nr, y_ul_target_nr, y_ul_init_nr, _, _, _ = generate_semi_supervised_data(\n",
    "        NUM_POINTS=50,\n",
    "        LABELED_PERCENTAGE=0.5,\n",
    "        INITIALIZE_RANDOM=False, # Test this case\n",
    "        seed=42\n",
    "    )\n",
    "    print(f\"y_unlabeled_initial_nr (should be all zeros): {y_ul_init_nr}\")\n",
    "    if len(y_ul_init_nr) > 0:\n",
    "        print(f\"y_unlabeled_initial_nr all zeros: {np.all(y_ul_init_nr == 0)}\")\n"
   ]
  },
  {
   "cell_type": "code",
   "execution_count": 5,
   "id": "33040b7b",
   "metadata": {},
   "outputs": [
    {
     "name": "stdout",
     "output_type": "stream",
     "text": [
      "--- Generating Main Synthetic Data for the Notebook ---\n",
      "Generating points\n",
      "done generating base points\n",
      "Generating variances\n",
      "Done generating variances\n",
      "Splitting points in labeled and unlabeled\n",
      "10000 elements class -1 and 10000 elements class 1 (raw)\n",
      "2000 elements labeled and 18000 elements unlabeled\n",
      "Done splitting and scaling.\n",
      "x_labeled shape: (2000, 2)\n",
      "y_labeled shape: (2000,)\n",
      "x_unlabeled shape: (18000, 2)\n",
      "y_unlabeled_target shape: (18000,)\n",
      "y_unlabeled_initial shape: (18000,)\n",
      "tuples_0_original shape: (10000, 2)\n",
      "tuples_1_original shape: (10000, 2)\n",
      "CPU times: total: 31.2 ms\n",
      "Wall time: 50.1 ms\n"
     ]
    }
   ],
   "source": [
    "%%time\n",
    "gen1_func = lambda x_val: x_val\n",
    "gen2_func = lambda x_val: -x_val\n",
    "range1_val = (-1, 1)\n",
    "range2_val = (-1, 1)\n",
    "current_seed = 1\n",
    "# Call the function to generate data \n",
    "print(\"--- Generating Main Synthetic Data for the Notebook ---\")\n",
    "x_labeled, y_labeled, x_unlabeled, y_unlabeled_target, y_unlabeled_initial, scaler, tuples_0_original, tuples_1_original = generate_semi_supervised_data(\n",
    "    NUM_POINTS=NUM_POINTS,\n",
    "    LABELED_PERCENTAGE=LABELED_PERCENTAGE,\n",
    "    INITIALIZE_RANDOM=INITIALIZE_RANDOM,\n",
    "    gen1=gen1_func,\n",
    "    gen2=gen2_func,\n",
    "    range1=range1_val,\n",
    "    range2=range2_val,\n",
    "    seed=current_seed\n",
    ")\n",
    "\n",
    "# Print shapes to confirm the data generation\n",
    "print(f\"x_labeled shape: {x_labeled.shape if x_labeled is not None else 'None'}\")\n",
    "print(f\"y_labeled shape: {y_labeled.shape if y_labeled is not None else 'None'}\")\n",
    "print(f\"x_unlabeled shape: {x_unlabeled.shape if x_unlabeled is not None else 'None'}\")\n",
    "print(f\"y_unlabeled_target shape: {y_unlabeled_target.shape if y_unlabeled_target is not None else 'None'}\")\n",
    "print(f\"y_unlabeled_initial shape: {y_unlabeled_initial.shape if y_unlabeled_initial is not None else 'None'}\")\n",
    "print(f\"tuples_0_original shape: {tuples_0_original.shape if tuples_0_original is not None else 'None'}\")\n",
    "print(f\"tuples_1_original shape: {tuples_1_original.shape if tuples_1_original is not None else 'None'}\")\n"
   ]
  },
  {
   "cell_type": "code",
   "execution_count": 6,
   "id": "341c2496",
   "metadata": {},
   "outputs": [
    {
     "data": {
      "image/png": "[encoded data removed]",
      "text/plain": [
       "<Figure size 640x480 with 1 Axes>"
      ]
     },
     "metadata": {},
     "output_type": "display_data"
    },
    {
     "data": {
      "image/png": "[encoded data removed]",
      "text/plain": [
       "<Figure size 640x480 with 1 Axes>"
      ]
     },
     "metadata": {},
     "output_type": "display_data"
    },
    {
     "data": {
      "image/png": "[encoded data removed]",
      "text/plain": [
       "<Figure size 640x480 with 1 Axes>"
      ]
     },
     "metadata": {},
     "output_type": "display_data"
    },
    {
     "name": "stdout",
     "output_type": "stream",
     "text": [
      "CPU times: total: 2.06 s\n",
      "Wall time: 4.39 s\n"
     ]
    }
   ],
   "source": [
    "%%time\n",
    "plt.figure(dpi=PLOT_DPI)\n",
    "plt.title(\"Unlabeled points initalization\")\n",
    "plt.scatter([p[0] for p in x_unlabeled[y_unlabeled_initial == 1]], [p[1] for p in x_unlabeled[y_unlabeled_initial == 1]], color='green', label='Class 1')\n",
    "plt.scatter([p[0] for p in x_unlabeled[y_unlabeled_initial== -1]], [p[1] for p in x_unlabeled[y_unlabeled_initial == -1]], color='red', label='Class -1')\n",
    "plt.legend()\n",
    "plt.show()\n",
    "\n",
    "plt.figure(dpi=PLOT_DPI)\n",
    "plt.title(\"Unlabeled points true value\")\n",
    "plt.scatter([p[0] for p in x_unlabeled[y_unlabeled_target == 1]], [p[1] for p in x_unlabeled[y_unlabeled_target == 1]], color='green', label='Class 1')\n",
    "plt.scatter([p[0] for p in x_unlabeled[y_unlabeled_target == -1]], [p[1] for p in x_unlabeled[y_unlabeled_target == -1]], color='red', label='Class -1')\n",
    "plt.legend()\n",
    "plt.show()\n",
    "\n",
    "\n",
    "plt.figure(dpi=PLOT_DPI)\n",
    "plt.title(\"Labeled points true value\")\n",
    "plt.scatter([p[0] for p in x_labeled[y_labeled == 1]], [p[1] for p in x_labeled[y_labeled == 1]], color='green', label='Class 1')\n",
    "plt.scatter([p[0] for p in x_labeled[y_labeled == -1]], [p[1] for p in x_labeled[y_labeled == -1]], color='red', label='Class -1')\n",
    "plt.legend()\n",
    "plt.show()"
   ]
  },
  {
   "cell_type": "markdown",
   "id": "2d9b2fc3",
   "metadata": {},
   "source": [
    "## FORMALIZATION: \n",
    "#### Loss function, Gradient, Weights, Hessian, Accuracy"
   ]
  },
  {
   "cell_type": "markdown",
   "id": "e8693a60",
   "metadata": {},
   "source": [
    "## 2. Choosing a proper similarity measure to define the weights"
   ]
  },
  {
   "cell_type": "code",
   "execution_count": 7,
   "id": "8da8c289",
   "metadata": {},
   "outputs": [
    {
     "name": "stdout",
     "output_type": "stream",
     "text": [
      "CPU times: total: 46.9 ms\n",
      "Wall time: 36.2 ms\n"
     ]
    },
    {
     "data": {
      "text/plain": [
       "[<matplotlib.lines.Line2D at 0x1c8c273e350>]"
      ]
     },
     "execution_count": 7,
     "metadata": {},
     "output_type": "execute_result"
    },
    {
     "data": {
      "image/png": "[encoded data removed]",
      "text/plain": [
       "<Figure size 640x480 with 1 Axes>"
      ]
     },
     "metadata": {},
     "output_type": "display_data"
    }
   ],
   "source": [
    "%%time\n",
    "# WEIGHTS\n",
    "def weight_function(dist):\n",
    "    return math.e**(-10* dist**2)\n",
    "\n",
    "# PLOT\n",
    "X = np.linspace(-2, 2, 100)\n",
    "plt.figure(dpi=PLOT_DPI)\n",
    "ax = plt.gca()\n",
    "ax.legend_= None\n",
    "ax.spines['top'].set_color('none')\n",
    "ax.spines['bottom'].set_position('zero')\n",
    "ax.spines['left'].set_position('zero')\n",
    "ax.spines['right'].set_color('none')\n",
    "ax.set_ylabel('weight')\n",
    "ax.set_xlabel('distance')\n",
    "ax.axvline(x=0, color='k')\n",
    "ax.plot(X, [weight_function(d) for d in X], label=\"asd\")"
   ]
  },
  {
   "cell_type": "code",
   "execution_count": 8,
   "id": "62a25613",
   "metadata": {},
   "outputs": [
    {
     "name": "stdout",
     "output_type": "stream",
     "text": [
      "Calculating weights between labeled points and unlabeled points\n",
      "Done\n",
      "CPU times: total: 4.73 s\n",
      "Wall time: 12.2 s\n"
     ]
    }
   ],
   "source": [
    "%%time\n",
    "# W\n",
    "def weights_labeled_unlabeled_iterative():\n",
    "    labeled_unlabeled = np.zeros((len(x_labeled), len(x_unlabeled))).astype('float64')\n",
    "    for i in range(len(x_unlabeled)):\n",
    "        if i % (len(x_unlabeled) * OUTPUT_STEP) == 0 :\n",
    "            print(f\"{int(i/len(x_unlabeled)*100):02}%\")\n",
    "        for j in range(len(x_labeled)):\n",
    "            labeled_unlabeled[j][i] = weight_function(np.linalg.norm(x_unlabeled[i] - x_labeled[j]))\n",
    "    return labeled_unlabeled\n",
    "\n",
    "def weights_labeled_unlabeled():\n",
    "    labeled_unlabeled = euclidean_distances(x_labeled, x_unlabeled) / x_labeled.shape[1]\n",
    "    return weight_function(labeled_unlabeled)\n",
    "print(\"Calculating weights between labeled points and unlabeled points\")\n",
    "W = weights_labeled_unlabeled()\n",
    "print(\"Done\")\n",
    "\n"
   ]
  },
  {
   "cell_type": "code",
   "execution_count": 9,
   "id": "2a4b1924",
   "metadata": {},
   "outputs": [
    {
     "name": "stdout",
     "output_type": "stream",
     "text": [
      "Calculating weights between unlabeled points and unlabeled points\n",
      "Done\n"
     ]
    }
   ],
   "source": [
    "# W_BAR\n",
    "def weights_unlabeled_unlabeled_iterative():\n",
    "    unlabeled_unlabeled = np.zeros((len(x_unlabeled), len(x_unlabeled))).astype('float64')\n",
    "    for i in range(len(x_unlabeled)):\n",
    "        if i % (len(x_unlabeled) * OUTPUT_STEP) == 0 :\n",
    "            print(f\"{int(i/len(x_unlabeled)*100):02}%\")\n",
    "        for j in range(len(x_unlabeled)):\n",
    "            unlabeled_unlabeled[j][i] = weight_function(np.linalg.norm(x_unlabeled[i] - x_unlabeled[j]))\n",
    "    return unlabeled_unlabeled\n",
    "def weights_unlabeled_unlabeled():\n",
    "    unlabeled_unlabeled = euclidean_distances(x_unlabeled, x_unlabeled) / x_unlabeled.shape[1]\n",
    "    return weight_function(unlabeled_unlabeled)\n",
    "\n",
    "print(\"Calculating weights between unlabeled points and unlabeled points\")\n",
    "W_bar = weights_unlabeled_unlabeled()\n",
    "print(\"Done\")"
   ]
  },
  {
   "cell_type": "markdown",
   "id": "e57ea037",
   "metadata": {},
   "source": [
    "## 3. We write down the problem"
   ]
  },
  {
   "cell_type": "code",
   "execution_count": 27,
   "id": "64ce3b92",
   "metadata": {},
   "outputs": [
    {
     "name": "stdout",
     "output_type": "stream",
     "text": [
      "CPU times: total: 0 ns\n",
      "Wall time: 0 ns\n"
     ]
    }
   ],
   "source": [
    "%%time\n",
    "# LOSS FUNCTION\n",
    "def loss_iterative(labeled, unlabeled):\n",
    "    global W, W_bar\n",
    "    tot1 = tot2 = 0.0\n",
    "    for i in range(len(labeled)):\n",
    "        for j in range(len(unlabeled)):\n",
    "            tot1 += W[i][j] * (unlabeled[j] - labeled[i])**2\n",
    "    for i in range(len(unlabeled)):\n",
    "        for j in range(len(unlabeled)):\n",
    "            tot2 += W_bar[i][j] * (unlabeled[i] - unlabeled[j])**2\n",
    "    return tot1 + tot2/2\n",
    "\n",
    "def loss(labeled, unlabeled):\n",
    "    Y = np.copy(unlabeled).astype(\"float64\").reshape((-1,1))\n",
    "    Y_bar = np.copy(labeled).astype(\"float64\").reshape((-1,1))\n",
    "\n",
    "    Y_minus_Y_bar = Y-Y_bar.T\n",
    "    Y_minus_Y_bar_sq = np.power(Y_minus_Y_bar, 2)\n",
    "    labeled_unlabeled_loss_matrix = Y_minus_Y_bar_sq * W.T\n",
    "    labeled_unlabeled_loss = np.sum(labeled_unlabeled_loss_matrix)\n",
    "\n",
    "    Y_minus_Y = Y-Y.T\n",
    "    Y_minus_Y_sq = np.power(Y_minus_Y, 2)\n",
    "    unlabeled_unlabeled_loss_matrix = Y_minus_Y_sq * W_bar.T\n",
    "    unlabeled_unlabeled_loss = np.sum(unlabeled_unlabeled_loss_matrix)\n",
    "\n",
    "    return labeled_unlabeled_loss + unlabeled_unlabeled_loss/2"
   ]
  },
  {
   "cell_type": "code",
   "execution_count": 11,
   "id": "7b37f447",
   "metadata": {},
   "outputs": [
    {
     "name": "stdout",
     "output_type": "stream",
     "text": [
      "Max loss: 115506871.3727652\n",
      "CPU times: total: 2.22 s\n",
      "Wall time: 5.14 s\n"
     ]
    }
   ],
   "source": [
    "%%time\n",
    "# ACCURACY FUNCTION\n",
    "def accuracy(current):\n",
    "    return np.sum(\n",
    "        np.equal(\n",
    "            (current/2 + .5).round() * 2 - 1,\n",
    "            y_unlabeled_target\n",
    "        )\n",
    "    ) / len(y_unlabeled_target)\n",
    "max_loss = np.sum(W) * 4 + np.sum(W_bar) * 2\n",
    "print(f\"Max loss: {max_loss}\")"
   ]
  },
  {
   "cell_type": "code",
   "execution_count": 12,
   "id": "349a6d2a",
   "metadata": {},
   "outputs": [
    {
     "name": "stdout",
     "output_type": "stream",
     "text": [
      "Calculating the Hessian matrix\n",
      "00% ... 10% ... 20% ... 30% ... 40% ... 50% ... 60% ... 70% ... 80% ... 90% ... \n",
      "Calculating sigma (strongly convex)\n",
      "Sigma: 483.286799292044,  strongly convex\n",
      "Estimating Lipschitz constant for the whole function\n",
      "Lipschitz constant: 5412.661858627785\n",
      "Estimating Lipschitz constant for each single variable\n",
      "Done\n",
      "CPU times: total: 1h 10min 48s\n",
      "Wall time: 1h 7min 9s\n"
     ]
    }
   ],
   "source": [
    "%%time\n",
    "# HESSIAN AND LIPSCHITZ CONSTANT\n",
    "def hessian_matrix(W_bar, W):\n",
    "    mat = np.copy(-W_bar)\n",
    "    for i in range(len(y_unlabeled_target)):\n",
    "        if i % (len(y_unlabeled_target) * OUTPUT_STEP) == 0 :\n",
    "            print(f\"{int(i/len(y_unlabeled_target)*100):02}% ... \", end=\"\")\n",
    "        mat[i][i] = 2 * np.sum(W[:,i]) + np.sum(W_bar[:,i]) - W_bar[i][i]\n",
    "    print()\n",
    "    return mat\n",
    "\n",
    "def estimate_lipschitz_constant(hessian):\n",
    "    return scipy.linalg.eigh(hessian, subset_by_index=(len(hessian)-1, len(hessian)-1))[0][0]\n",
    "def estimate_degree_strongly_convex(hessian):\n",
    "    return scipy.linalg.eigh(hessian, subset_by_index=(0,0))[0][0]\n",
    "\n",
    "if USE_LIPSCHITZ_CONSTANT:\n",
    "    print(\"Calculating the Hessian matrix\")\n",
    "    hessian = hessian_matrix(W_bar, W)\n",
    "    print(\"Calculating sigma (strongly convex)\")\n",
    "    sigma = estimate_degree_strongly_convex(hessian)\n",
    "    strongly_convex = sigma > 0\n",
    "    print(f\"Sigma: {sigma}, {'' if strongly_convex else 'not'} strongly convex\")\n",
    "    print(\"Estimating Lipschitz constant for the whole function\")\n",
    "    L = estimate_lipschitz_constant(hessian)\n",
    "    print(f\"Lipschitz constant: {L}\")\n",
    "    print(\"Estimating Lipschitz constant for each single variable\")\n",
    "    Li = np.array([hessian[i][i] for i in range(len(hessian))], dtype='float64') \\\n",
    "        if OPTIMIZE_LIPSCHITZ_CONSTANT_FOR_BCGM \\\n",
    "        else np.repeat(L, len(hessian))\n",
    "else:\n",
    "    print(\"Using fixed step size\")\n",
    "    sigma = 0\n",
    "    strongly_convex = False\n",
    "    L = 1/STEP_SIZE\n",
    "    Li = np.repeat(L, len(y_unlabeled_target))\n",
    "print(\"Done\")\n"
   ]
  },
  {
   "cell_type": "markdown",
   "id": "6e49db37",
   "metadata": {},
   "source": [
    "#### Free tips: GRADIENT"
   ]
  },
  {
   "cell_type": "code",
   "execution_count": 13,
   "id": "6ec911fd",
   "metadata": {},
   "outputs": [
    {
     "name": "stdout",
     "output_type": "stream",
     "text": [
      "CPU times: total: 0 ns\n",
      "Wall time: 0 ns\n"
     ]
    }
   ],
   "source": [
    "%%time\n",
    "# GRADIENT\n",
    "def gradient(W_bar, W, y_lab, y_unlab_pred):\n",
    "    \"\"\"\n",
    "    Computes the gradient of the loss function with respect to y_unlab.\n",
    "\n",
    "    Args:\n",
    "        W_bar (np.ndarray): Weight matrix for unlabeled data (n_unlabeled_samples, n_unlabeled_samples).\n",
    "        W (np.ndarray): Weight matrix between labeled and unlabeled data (n_labeled_samples, n_unlabeled_samples).\n",
    "        y_lab (np.ndarray): Labels for the labeled data (n_labeled_samples,).\n",
    "        y_unlab_pred (np.ndarray): Current predictions for the unlabeled data (n_unlabeled_samples,).\n",
    "\n",
    "    Returns:\n",
    "        np.ndarray: The computed gradient vector.\n",
    "    \"\"\"\n",
    "    # Gradient with respect to y_unlab\n",
    "    grad_first_term = -2 * np.sum(W * (y_lab[:, np.newaxis] - y_unlab_pred[np.newaxis, :]), axis=0)\n",
    "    grad_second_term = -np.sum(W_bar * (y_unlab_pred[:, np.newaxis] - y_unlab_pred[np.newaxis, :]), axis=1)\n",
    "\n",
    "    return grad_first_term + grad_second_term"
   ]
  },
  {
   "cell_type": "code",
   "execution_count": 28,
   "id": "946a986d",
   "metadata": {},
   "outputs": [
    {
     "name": "stdout",
     "output_type": "stream",
     "text": [
      "Calculating coefficients of the gradient\n",
      "Done\n"
     ]
    }
   ],
   "source": [
    "# GRADIENT\n",
    "# We rewrite the gradient in a format that allows us to avoid to redo those calculation every time\n",
    "print(\"Calculating coefficients of the gradient\")\n",
    "sum_row_label_unlabel = np.sum(W, axis=0).reshape((-1,1))\n",
    "sum_row_unlabel_unlabel = np.sum(W_bar, axis=0).reshape((-1,1))\n",
    "grad_first_coeff_vec = (2 * sum_row_label_unlabel + sum_row_unlabel_unlabel)\n",
    "grad_second_coeff_vec = 2 * np.multiply(\n",
    "    y_labeled.reshape((-1,1)),\n",
    "    W\n",
    ").sum(0).reshape((-1,1))\n",
    "print(\"Done\")"
   ]
  },
  {
   "cell_type": "markdown",
   "id": "dfc8406f",
   "metadata": {},
   "source": [
    "## 4. We solve the problem with the algorithms"
   ]
  },
  {
   "cell_type": "markdown",
   "id": "216669d3",
   "metadata": {},
   "source": [
    "### Gradient Descent"
   ]
  },
  {
   "cell_type": "code",
   "execution_count": 29,
   "id": "69d3adf5",
   "metadata": {},
   "outputs": [],
   "source": [
    "def gradient(unlabeled):\n",
    "    unlabeled = unlabeled.reshape((-1,1))\n",
    "    third_coeff = np.multiply(\n",
    "        unlabeled,\n",
    "        W_bar\n",
    "    ).sum(0).reshape((-1,1))\n",
    "    return (grad_first_coeff_vec * unlabeled - grad_second_coeff_vec - third_coeff).reshape((-1,))"
   ]
  },
  {
   "cell_type": "code",
   "execution_count": 30,
   "id": "ad5c1222",
   "metadata": {},
   "outputs": [],
   "source": [
    "y_unlabeled_gd = np.copy(y_unlabeled_initial)"
   ]
  },
  {
   "cell_type": "code",
   "execution_count": null,
   "id": "3740f600",
   "metadata": {},
   "outputs": [
    {
     "name": "stdout",
     "output_type": "stream",
     "text": [
      "00% - iter 0 / 60 - final accuracy 56.39% - loss 6782902.68\n",
      "10% - iter 6 / 60"
     ]
    }
   ],
   "source": [
    "%%time\n",
    "t_gd= [0]\n",
    "accuracies_gd = [accuracy(y_unlabeled_gd)]\n",
    "losses_gd = [loss(y_labeled, y_unlabeled_gd)]\n",
    "init_time = time.time() * 1000\n",
    "for i in range(NUM_ITERS):\n",
    "    if i % (NUM_ITERS * OUTPUT_STEP) == 0 :\n",
    "        print(f\"{int(i/NUM_ITERS*100):02}% - iter {i} / {NUM_ITERS}\", end=\"\")\n",
    "    start = time.process_time()\n",
    "    grad = gradient(y_unlabeled_gd)\n",
    "\n",
    "    if EPSILON >= np.linalg.norm(grad):\n",
    "        break\n",
    "\n",
    "    y_unlabeled_gd = y_unlabeled_gd - 1/L * grad\n",
    "    accuracies_gd.append(accuracy(y_unlabeled_gd))\n",
    "    losses_gd.append(loss(y_labeled, y_unlabeled_gd))\n",
    "    t_gd.append(time.time() * 1000 - init_time)\n",
    "\n",
    "    if i % (NUM_ITERS * OUTPUT_STEP) == 0 :\n",
    "        print(f\" - final accuracy {(accuracies_gd[-1])*100:05.2f}% - loss {loss(y_labeled, y_unlabeled_gd):05.2f}\")\n",
    "print(f\"\"\"\n",
    "Final accuracy: {round(accuracies_gd[-1]* 100, 2)}%\n",
    "Norm gradient: {np.linalg.norm(gradient(y_unlabeled_gd))}\n",
    "Loss: {loss(y_labeled, y_unlabeled_gd)}\n",
    "\"\"\")"
   ]
  },
  {
   "cell_type": "code",
   "execution_count": 18,
   "id": "94f7bba4",
   "metadata": {},
   "outputs": [
    {
     "data": {
      "text/plain": [
       "<matplotlib.legend.Legend at 0x1c8c273bc90>"
      ]
     },
     "execution_count": 18,
     "metadata": {},
     "output_type": "execute_result"
    },
    {
     "data": {
      "image/png": "[encoded data removed]",
      "text/plain": [
       "<Figure size 640x480 with 1 Axes>"
      ]
     },
     "metadata": {},
     "output_type": "display_data"
    }
   ],
   "source": [
    "# Plot the accuracy for Gradient Descent\n",
    "plt.figure(dpi=PLOT_DPI)\n",
    "plt.title(\"Accuracy of Gradient Descent\")\n",
    "plt.plot(t_gd, accuracies_gd, marker='.')\n",
    "plt.legend([\"Accuracy\"])"
   ]
  },
  {
   "cell_type": "markdown",
   "id": "35599847",
   "metadata": {},
   "source": [
    "### Block Coordinate Gradient Method with Gauss-Southwell"
   ]
  },
  {
   "cell_type": "code",
   "execution_count": 19,
   "id": "2409c0da",
   "metadata": {},
   "outputs": [],
   "source": [
    "def new_gradient(previous_grad, Li, index):\n",
    "    global w_unlabeled_unlabeled, grad_first_coeff_vec\n",
    "    step = 1/Li[index] * previous_grad[index]\n",
    "    new_grad = np.copy(previous_grad)\n",
    "    new_grad += w_unlabeled_unlabeled[index] * step\n",
    "    new_grad[index] -= grad_first_coeff_vec[index] * step\n",
    "    return step, new_grad"
   ]
  },
  {
   "cell_type": "code",
   "execution_count": 20,
   "id": "03906e99",
   "metadata": {},
   "outputs": [],
   "source": [
    "y_unlabeled_bcgd_gs = np.copy(y_unlabeled_initial).astype(\"float64\")"
   ]
  },
  {
   "cell_type": "code",
   "execution_count": null,
   "id": "dc0960b3",
   "metadata": {},
   "outputs": [
    {
     "ename": "TypeError",
     "evalue": "loss() missing 2 required positional arguments: 'y_lab' and 'y_unlab_pred'",
     "output_type": "error",
     "traceback": [
      "\u001b[1;31m---------------------------------------------------------------------------\u001b[0m",
      "\u001b[1;31mTypeError\u001b[0m                                 Traceback (most recent call last)",
      "File \u001b[1;32m<timed exec>:3\u001b[0m\n",
      "\u001b[1;31mTypeError\u001b[0m: loss() missing 2 required positional arguments: 'y_lab' and 'y_unlab_pred'"
     ]
    }
   ],
   "source": [
    "%%time\n",
    "t_bcgd_gs = [0]\n",
    "accuracies_bcgd_gs = [accuracy(y_unlabeled_bcgd_gs)]\n",
    "losses_bcgm_gs = [loss(y_labeled, y_unlabeled_bcgd_gs)]\n",
    "\n",
    "max_iterations = NUM_ITERS*len(y_unlabeled_bcgd_random)\n",
    "previous_grad_gs = gradient(y_unlabeled_bcgd_gs)\n",
    "\n",
    "init_time = time.time() * 1000\n",
    "\n",
    "for i in range(max_iterations):\n",
    "    if i % (max_iterations * OUTPUT_STEP) == 0 :\n",
    "        print(f\"{int(i/max_iterations*100):02}% - iter {i} / {max_iterations}\", end=\"\")\n",
    "\n",
    "    index = np.argmax(np.abs(previous_grad_gs))\n",
    "\n",
    "    step, new_grad = new_gradient(previous_grad_gs, Li, index)\n",
    "    y_unlabeled_bcgd_gs[index] = y_unlabeled_bcgd_gs[index] - step\n",
    "    previous_grad_gs = new_grad\n",
    "\n",
    "    if EPSILON >= np.linalg.norm(previous_grad_gs):\n",
    "        break\n",
    "\n",
    "    if (i+1) % len(y_unlabeled_target) == 0:\n",
    "        accuracies_bcgd_gs.append(accuracy(y_unlabeled_bcgd_gs))\n",
    "        losses_bcgm_gs.append(loss(y_labeled, y_unlabeled_bcgd_gs))\n",
    "        t_bcgd_gs.append(time.time() * 1000 - init_time)\n",
    "\n",
    "    if i % (max_iterations * OUTPUT_STEP) == 0 :\n",
    "        print(f\" - final accuracy {(accuracies_bcgd_gs[-1])*100:05.2f}% - loss {loss(y_labeled, y_unlabeled_bcgd_gs):05.2f}\")\n",
    "\n",
    "\n",
    "print(f\"\"\"\n",
    "Final accuracy: {round(accuracies_bcgd_gs[-1]* 100, 2)}%\n",
    "Norm gradient: {np.linalg.norm(gradient(y_unlabeled_bcgd_gs))}\n",
    "Loss: {loss(y_labeled, y_unlabeled_bcgd_gs)}\n",
    "\"\"\")"
   ]
  },
  {
   "cell_type": "code",
   "execution_count": 22,
   "id": "faf06260",
   "metadata": {},
   "outputs": [
    {
     "data": {
      "text/plain": [
       "[<matplotlib.lines.Line2D at 0x1c8c26d2b90>]"
      ]
     },
     "execution_count": 22,
     "metadata": {},
     "output_type": "execute_result"
    },
    {
     "data": {
      "image/png": "[encoded data removed]",
      "text/plain": [
       "<Figure size 640x480 with 1 Axes>"
      ]
     },
     "metadata": {},
     "output_type": "display_data"
    }
   ],
   "source": [
    "# Plot the accuracy for BCGM Gauss-Southwell\n",
    "plt.figure(dpi=PLOT_DPI)\n",
    "plt.title(\"Accuracy of BCGM Gauss-Southwell\")\n",
    "plt.plot(t_bcgd_gs, accuracies_bcgd_gs, marker='.')"
   ]
  },
  {
   "cell_type": "markdown",
   "id": "1d18b51d",
   "metadata": {},
   "source": [
    "### Coordinate Minimization"
   ]
  },
  {
   "cell_type": "code",
   "execution_count": 23,
   "id": "3bf36c3b",
   "metadata": {},
   "outputs": [],
   "source": [
    "y_unlabeled_cm = np.copy(y_unlabeled_initial)"
   ]
  },
  {
   "cell_type": "code",
   "execution_count": null,
   "id": "cf3f6353",
   "metadata": {},
   "outputs": [
    {
     "ename": "TypeError",
     "evalue": "loss() missing 2 required positional arguments: 'y_lab' and 'y_unlab_pred'",
     "output_type": "error",
     "traceback": [
      "\u001b[1;31m---------------------------------------------------------------------------\u001b[0m",
      "\u001b[1;31mTypeError\u001b[0m                                 Traceback (most recent call last)",
      "File \u001b[1;32m<timed exec>:8\u001b[0m\n",
      "\u001b[1;31mTypeError\u001b[0m: loss() missing 2 required positional arguments: 'y_lab' and 'y_unlab_pred'"
     ]
    }
   ],
   "source": [
    "%%time\n",
    "# Initialize lists to store metrics for Coordinate Minimization\n",
    "t_cm = [0]\n",
    "# Ensure y_unlabeled_cm is initialized (from cell 33)\n",
    "accuracies_cm = [accuracy(y_unlabeled_cm)]\n",
    "# Assuming loss function takes (y_labeled, y_unlabeled_pred) based on usage in cells 25, 30\n",
    "# If loss function strictly requires W, W_bar as args per cell 15, this would be:\n",
    "# losses_cm = [loss(W_bar, W, y_labeled, y_unlabeled_cm)]\n",
    "losses_cm = [loss(y_labeled, y_unlabeled_cm)]\n",
    "\n",
    "\n",
    "init_time = time.time() * 1000\n",
    "\n",
    "print(\"Starting Coordinate Minimization...\")\n",
    "for i in range(NUM_ITERS):\n",
    "    if i % (NUM_ITERS * OUTPUT_STEP) == 0 :\n",
    "        print(f\"{int(i/NUM_ITERS*100):02}% - iter {i} / {NUM_ITERS}\", end=\"\")\n",
    "\n",
    "    # Iterate over each coordinate\n",
    "    for j in range(len(y_unlabeled_cm)):\n",
    "        # Optimal value for y_unlabeled_cm[j] is derived by setting partial derivative of loss w.r.t. y_unlabeled_cm[j] to 0\n",
    "        # y_j_new = ( b_j + sum_{k!=j} W_bar_jk * y_k_old ) / ( D_jj - W_bar_jj )\n",
    "        # where b_j = grad_second_coeff_vec[j][0]\n",
    "        # D_jj - W_bar_jj = grad_first_coeff_vec[j][0] - W_bar[j,j]\n",
    "        # sum_{k!=j} W_bar_jk * y_k_old = (np.dot(W_bar[j, :], y_unlabeled_cm) - W_bar[j,j] * y_unlabeled_cm[j])\n",
    "        \n",
    "        numerator = grad_second_coeff_vec[j][0] + (np.dot(W_bar[j, :], y_unlabeled_cm) - W_bar[j,j] * y_unlabeled_cm[j])\n",
    "        denominator = grad_first_coeff_vec[j][0] - W_bar[j,j]\n",
    "\n",
    "        if denominator != 0:\n",
    "            y_unlabeled_cm[j] = numerator / denominator\n",
    "        # Else: if denominator is 0, y_unlabeled_cm[j] remains unchanged (isolated point)\n",
    "\n",
    "    # After one full pass over all coordinates\n",
    "    current_accuracy = accuracy(y_unlabeled_cm)\n",
    "    accuracies_cm.append(current_accuracy)\n",
    "    # Consistent loss call\n",
    "    current_loss = loss(y_labeled, y_unlabeled_cm)\n",
    "    losses_cm.append(current_loss)\n",
    "    t_cm.append(time.time() * 1000 - init_time)\n",
    "\n",
    "    if i % (NUM_ITERS * OUTPUT_STEP) == 0 :\n",
    "        print(f\" - accuracy {current_accuracy*100:05.2f}% - loss {current_loss:05.2f}\")\n",
    "\n",
    "# Calculate final gradient norm for comparison (using gradient function from cell 23)\n",
    "final_grad_cm = gradient(y_unlabeled_cm)\n",
    "final_accuracy_cm = accuracies_cm[-1]\n",
    "final_loss_cm = losses_cm[-1]\n",
    "\n",
    "print(f\"\"\"\n",
    "Coordinate Minimization Finished.\n",
    "Final accuracy: {round(final_accuracy_cm * 100, 2)}%\n",
    "Norm gradient: {np.linalg.norm(final_grad_cm)}\n",
    "Loss: {final_loss_cm}\n",
    "Total iterations (epochs): {NUM_ITERS}\n",
    "\"\"\")"
   ]
  },
  {
   "cell_type": "code",
   "execution_count": 25,
   "id": "b14b3d37",
   "metadata": {},
   "outputs": [
    {
     "data": {
      "image/png": "[encoded data removed]",
      "text/plain": [
       "<Figure size 640x480 with 1 Axes>"
      ]
     },
     "metadata": {},
     "output_type": "display_data"
    }
   ],
   "source": [
    "# Plot the accuracy for Coordinate Minimization\n",
    "plt.figure(dpi=PLOT_DPI if 'PLOT_DPI' in locals() else 100) # Use PLOT_DPI if available\n",
    "plt.title(\"Accuracy of Coordinate Minimization\")\n",
    "plt.plot(t_cm, accuracies_cm, marker='.')\n",
    "plt.xlabel(\"Time (ms)\")\n",
    "plt.ylabel(\"Accuracy\")\n",
    "plt.legend([\"Accuracy\"])\n",
    "plt.grid(True)\n",
    "plt.show()"
   ]
  },
  {
   "cell_type": "markdown",
   "id": "50598166",
   "metadata": {},
   "source": [
    "## Algorithms Comparison"
   ]
  },
  {
   "cell_type": "code",
   "execution_count": 26,
   "id": "f53ff08f",
   "metadata": {},
   "outputs": [],
   "source": [
    "min_acc = np.min(\n",
    "    np.concatenate(\n",
    "        (accuracies_bcgd_gs, accuracies_gd, accuracies_cm)\n",
    "    )\n",
    ")\n",
    "max_acc = np.max(\n",
    "    np.concatenate(\n",
    "        (accuracies_bcgd_gs, accuracies_gd, accuracies_cm)\n",
    "    )\n",
    ")\n",
    "min_y_plot = max(min_acc - .1 * (1 - min_acc), 0.5)\n",
    "max_y_plot = max_acc + (.1 * (1 - max_acc))"
   ]
  },
  {
   "cell_type": "code",
   "execution_count": null,
   "id": "4467d261",
   "metadata": {},
   "outputs": [],
   "source": []
  }
 ],
 "metadata": {
  "kernelspec": {
   "display_name": "Python 3",
   "language": "python",
   "name": "python3"
  },
  "language_info": {
   "codemirror_mode": {
    "name": "ipython",
    "version": 3
   },
   "file_extension": ".py",
   "mimetype": "text/x-python",
   "name": "python",
   "nbconvert_exporter": "python",
   "pygments_lexer": "ipython3",
   "version": "3.11.9"
  }
 },
 "nbformat": 4,
 "nbformat_minor": 5
}
